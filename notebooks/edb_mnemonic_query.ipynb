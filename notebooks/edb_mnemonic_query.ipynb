{
 "cells": [
  {
   "cell_type": "markdown",
   "metadata": {},
   "source": [
    "## Example query for a mnemonic in the DMS engineering database (EDB)\n",
    "#### Pre-requisites:\n",
    "1. Install `jwql` package\n",
    "2. Gain access to the EDB by following the process described at https://outerspace.stsci.edu/pages/viewpage.action?spaceKey=JARI&title=JWST+Archive+Rehearsal+Instructions\n",
    "3. Verify that you have access to the EDB via the MAST web interface (https://mast.stsci.edu/portal/Mashup/Clients/JwstEdb/JwstEdb.html)\n",
    "4. Generate a MAST authentication token at https://auth.mast.stsci.edu/info and include it in `jwql/config.json`, e.g: `{..., \"mast_token\" : \"12345cv6789123ytr8fff12345a55yo0o\", ...}`"
   ]
  },
  {
   "cell_type": "code",
   "execution_count": null,
   "metadata": {
    "collapsed": true
   },
   "outputs": [],
   "source": [
    "from astropy.time import Time\n",
    "import pylab as pl\n",
    "\n",
    "from jwedb.edb_interface import mnemonic_inventory \n",
    "from jwql.edb.engineering_database import get_mnemonic, get_mnemonics \n"
   ]
  },
  {
   "cell_type": "markdown",
   "metadata": {},
   "source": [
    "### Query single mnemonic"
   ]
  },
  {
   "cell_type": "code",
   "execution_count": null,
   "metadata": {},
   "outputs": [],
   "source": [
    "start_time = Time('2019-01-16 00:00:00.000', format='iso')\n",
    "end_time = Time('2019-01-16 00:01:00.000', format='iso')\n",
    "mnemonic_identifier = 'IMIR_HK_ICE_SEC_VOLT4'\n",
    "\n",
    "mnemonic = get_mnemonic(mnemonic_identifier, start_time, end_time)\n",
    "\n",
    "print(mnemonic)\n",
    "for key, value in mnemonic.info.items():\n",
    "    print('{:>20}: {}'.format(key, value))\n",
    "\n",
    "pl.figure()\n",
    "pl.plot(mnemonic.data['MJD'], mnemonic.data['euvalue'], 'bo-')\n",
    "pl.title('{}\\n{}'.format(mnemonic_identifier, mnemonic.info['description'][0]))\n",
    "pl.show()\n"
   ]
  },
  {
   "cell_type": "markdown",
   "metadata": {},
   "source": [
    "### Query list of mnemonics"
   ]
  },
  {
   "cell_type": "code",
   "execution_count": null,
   "metadata": {},
   "outputs": [],
   "source": [
    "start_time = Time('2019-01-16 00:00:00.000', format='iso')\n",
    "end_time = Time('2019-01-16 00:01:00.000', format='iso')\n",
    "mnemonics = ['IMIR_HK_ICE_SEC_VOLT4', 'IMIR_HK_ICE_SEC_VOLT3']\n",
    "\n",
    "mnemonic_dict = get_mnemonics(mnemonics, start_time, end_time)\n",
    "\n",
    "for m in mnemonics:\n",
    "    print(mnemonic_dict[m])"
   ]
  },
  {
   "cell_type": "markdown",
   "metadata": {},
   "source": [
    "### Query mnemonic inventory"
   ]
  },
  {
   "cell_type": "code",
   "execution_count": null,
   "metadata": {},
   "outputs": [],
   "source": [
    "inventory = mnemonic_inventory()[0]\n",
    "print('EDB contains {} mnemonics'.format(len(inventory)))"
   ]
  },
  {
   "cell_type": "code",
   "execution_count": null,
   "metadata": {
    "collapsed": true
   },
   "outputs": [],
   "source": []
  }
 ],
 "metadata": {
  "anaconda-cloud": {},
  "kernelspec": {
   "display_name": "Python 3",
   "language": "python",
   "name": "python3"
  },
  "language_info": {
   "codemirror_mode": {
    "name": "ipython",
    "version": 3
   },
   "file_extension": ".py",
   "mimetype": "text/x-python",
   "name": "python",
   "nbconvert_exporter": "python",
   "pygments_lexer": "ipython3",
   "version": "3.8.2"
  }
 },
 "nbformat": 4,
 "nbformat_minor": 1
}
